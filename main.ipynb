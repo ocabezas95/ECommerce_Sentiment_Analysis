{
 "cells": [
  {
   "cell_type": "code",
   "execution_count": 1,
   "id": "6de58710",
   "metadata": {},
   "outputs": [],
   "source": [
    "from datasets import load_dataset\n",
    "from transformers import pipeline\n",
    "from IPython.display import display\n",
    "import ipywidgets as widgets\n",
    "import matplotlib.pyplot as plt\n",
    "import seaborn as sns\n",
    "import pandas as pd"
   ]
  },
  {
   "cell_type": "code",
   "execution_count": 2,
   "id": "6b1915f6",
   "metadata": {},
   "outputs": [
    {
     "data": {
      "text/html": [
       "<div>\n",
       "<style scoped>\n",
       "    .dataframe tbody tr th:only-of-type {\n",
       "        vertical-align: middle;\n",
       "    }\n",
       "\n",
       "    .dataframe tbody tr th {\n",
       "        vertical-align: top;\n",
       "    }\n",
       "\n",
       "    .dataframe thead th {\n",
       "        text-align: right;\n",
       "    }\n",
       "</style>\n",
       "<table border=\"1\" class=\"dataframe\">\n",
       "  <thead>\n",
       "    <tr style=\"text-align: right;\">\n",
       "      <th></th>\n",
       "      <th>product_id</th>\n",
       "      <th>Title</th>\n",
       "      <th>review_text</th>\n",
       "    </tr>\n",
       "  </thead>\n",
       "  <tbody>\n",
       "    <tr>\n",
       "      <th>2</th>\n",
       "      <td>1077</td>\n",
       "      <td>Some major design flaws</td>\n",
       "      <td>I had such high hopes for this dress and reall...</td>\n",
       "    </tr>\n",
       "    <tr>\n",
       "      <th>3</th>\n",
       "      <td>1049</td>\n",
       "      <td>My favorite buy!</td>\n",
       "      <td>I love, love, love this jumpsuit. it's fun, fl...</td>\n",
       "    </tr>\n",
       "    <tr>\n",
       "      <th>4</th>\n",
       "      <td>847</td>\n",
       "      <td>Flattering shirt</td>\n",
       "      <td>This shirt is very flattering to all due to th...</td>\n",
       "    </tr>\n",
       "    <tr>\n",
       "      <th>5</th>\n",
       "      <td>1080</td>\n",
       "      <td>Not for the very petite</td>\n",
       "      <td>I love tracy reese dresses, but this one is no...</td>\n",
       "    </tr>\n",
       "    <tr>\n",
       "      <th>6</th>\n",
       "      <td>858</td>\n",
       "      <td>Cagrcoal shimmer fun</td>\n",
       "      <td>I aded this in my basket at hte last mintue to...</td>\n",
       "    </tr>\n",
       "  </tbody>\n",
       "</table>\n",
       "</div>"
      ],
      "text/plain": [
       "   product_id                    Title  \\\n",
       "2        1077  Some major design flaws   \n",
       "3        1049         My favorite buy!   \n",
       "4         847         Flattering shirt   \n",
       "5        1080  Not for the very petite   \n",
       "6         858     Cagrcoal shimmer fun   \n",
       "\n",
       "                                         review_text  \n",
       "2  I had such high hopes for this dress and reall...  \n",
       "3  I love, love, love this jumpsuit. it's fun, fl...  \n",
       "4  This shirt is very flattering to all due to th...  \n",
       "5  I love tracy reese dresses, but this one is no...  \n",
       "6  I aded this in my basket at hte last mintue to...  "
      ]
     },
     "execution_count": 2,
     "metadata": {},
     "output_type": "execute_result"
    }
   ],
   "source": [
    "# Load the dataset\n",
    "ds = load_dataset(\"Censius-AI/ECommerce-Women-Clothing-Reviews\")\n",
    "\n",
    "# Convert the dataset to a pandas DataFrame\n",
    "df = ds['train'].to_pandas()\n",
    "\n",
    "#preview relevant columns\n",
    "df = df[['Clothing ID', 'Title', 'Review Text']].dropna()\n",
    "df.rename(columns={'Review Text': 'review_text'}, inplace=True) \n",
    "df.rename(columns={'Clothing ID': 'product_id'}, inplace=True)\n",
    "\n",
    "\n",
    "# Cleaning the review text removing whitespace\n",
    "df['review_text'] = df['review_text'].str.strip()\n",
    "df.head()\n",
    "\n",
    "\n"
   ]
  },
  {
   "cell_type": "code",
   "execution_count": 3,
   "id": "eae9b4e3",
   "metadata": {},
   "outputs": [
    {
     "name": "stderr",
     "output_type": "stream",
     "text": [
      "Device set to use mps:0\n"
     ]
    }
   ],
   "source": [
    "# Initialize the text classification pipeline with a pre-trained model\n",
    "\n",
    "pipe = pipeline(\"text-classification\", model=\"distilbert/distilbert-base-uncased-finetuned-sst-2-english\")"
   ]
  },
  {
   "cell_type": "code",
   "execution_count": 4,
   "id": "7f4bbce9",
   "metadata": {},
   "outputs": [
    {
     "name": "stdout",
     "output_type": "stream",
     "text": [
      "   product_id                    Title  \\\n",
      "2        1077  Some major design flaws   \n",
      "3        1049         My favorite buy!   \n",
      "4         847         Flattering shirt   \n",
      "5        1080  Not for the very petite   \n",
      "6         858     Cagrcoal shimmer fun   \n",
      "\n",
      "                                         review_text sentiment  confidence  \n",
      "2  I had such high hopes for this dress and reall...  POSITIVE        0.99  \n",
      "3  I love, love, love this jumpsuit. it's fun, fl...  POSITIVE        1.00  \n",
      "4  This shirt is very flattering to all due to th...  POSITIVE        1.00  \n",
      "5  I love tracy reese dresses, but this one is no...  NEGATIVE        0.88  \n",
      "6  I aded this in my basket at hte last mintue to...  NEGATIVE        0.67  \n"
     ]
    }
   ],
   "source": [
    "def classify_review(text):\n",
    "    result = pipe(text[:512])[0]  # Limit to 512 characters\n",
    "    return result['label'], round(result['score'],2)\n",
    "\n",
    "# Apply the classification function to the review text\n",
    "df[['sentiment', 'confidence']] = df['review_text'].apply(lambda x: pd.Series(classify_review(x)))\n",
    "\n",
    "# Print the first few rows of the classified DataFrame\n",
    "print(df.head())"
   ]
  },
  {
   "cell_type": "code",
   "execution_count": 5,
   "id": "5de48f6a",
   "metadata": {},
   "outputs": [],
   "source": [
    "\n",
    "# Classified DataFrame to a CSV file\n",
    "df.to_csv('classified_reviews.csv', index=False)"
   ]
  },
  {
   "cell_type": "code",
   "execution_count": 6,
   "id": "f4f84cb0",
   "metadata": {},
   "outputs": [
    {
     "name": "stderr",
     "output_type": "stream",
     "text": [
      "/var/folders/n1/yjkfys6s40zdd3l3kfxk98380000gn/T/ipykernel_93828/3812780505.py:6: FutureWarning: \n",
      "\n",
      "Passing `palette` without assigning `hue` is deprecated and will be removed in v0.14.0. Assign the `x` variable to `hue` and set `legend=False` for the same effect.\n",
      "\n",
      "  sns.countplot(data=df, x='sentiment', palette='coolwarm')\n"
     ]
    },
    {
     "data": {
      "image/png": "[encoded data removed]",
      "text/plain": [
       "<Figure size 600x400 with 1 Axes>"
      ]
     },
     "metadata": {},
     "output_type": "display_data"
    }
   ],
   "source": [
    "# Set style\n",
    "sns.set(style=\"whitegrid\")\n",
    "\n",
    "# Create a count plot for sentiment distribution\n",
    "plt.figure(figsize=(6, 4))\n",
    "sns.countplot(data=df, x='sentiment', palette='coolwarm')\n",
    "plt.title('Sentiment Classification Results')\n",
    "plt.xlabel('Sentiment')\n",
    "plt.ylabel('Number of Reviews')\n",
    "plt.tight_layout()\n",
    "\n",
    "# save plot to a file\n",
    "plt.savefig('sentiment_distribution.png', dpi=300)\n",
    "plt.show()"
   ]
  },
  {
   "cell_type": "code",
   "execution_count": 7,
   "id": "9460ea47",
   "metadata": {},
   "outputs": [
    {
     "data": {
      "image/png": "[encoded data removed]",
      "text/plain": [
       "<Figure size 640x480 with 1 Axes>"
      ]
     },
     "metadata": {},
     "output_type": "display_data"
    }
   ],
   "source": [
    "# Confidence distribution plot\n",
    "sns.histplot(data=df, x='confidence', hue='sentiment', bins=20, kde=True, palette='coolwarm')\n",
    "plt.title('Confidence Distribution by Sentiment')\n",
    "\n",
    "plt.savefig('confidence_distribution_by_Sentiment.png', dpi=300)\n",
    "plt.show()"
   ]
  },
  {
   "cell_type": "code",
   "execution_count": 8,
   "id": "a07eec2c",
   "metadata": {},
   "outputs": [
    {
     "data": {
      "application/vnd.jupyter.widget-view+json": {
       "model_id": "f6061227bef447408d6fd7c7fdb28f88",
       "version_major": 2,
       "version_minor": 0
      },
      "text/plain": [
       "interactive(children=(Dropdown(description='Product ID:', options=('ALL', np.int64(1), np.int64(2), np.int64(4…"
      ]
     },
     "metadata": {},
     "output_type": "display_data"
    },
    {
     "data": {
      "text/plain": [
       "<function __main__.filter_reviews(product_id, sentiment)>"
      ]
     },
     "execution_count": 8,
     "metadata": {},
     "output_type": "execute_result"
    }
   ],
   "source": [
    "# Dropdown widgets by product ID and sentiment with pie chart visualization\n",
    "\n",
    " # view 'ALL' as an option in the dropdown\n",
    "product_ids = ['ALL'] + sorted(df['product_id'].unique())\n",
    "sentiments = ['ALL', 'POSITIVE', 'NEGATIVE']\n",
    "\n",
    "# Create dropdown widgets\n",
    "product_dropdown = widgets.Dropdown(\n",
    "    options=product_ids,\n",
    "    description='Product ID:',\n",
    ")\n",
    "sentiment_dropdown = widgets.Dropdown(\n",
    "    options=sentiments,\n",
    "    description='Sentiment:',\n",
    ")\n",
    "# Function to filter DataFrame based on dropdown selections\n",
    "def filter_reviews(product_id, sentiment):\n",
    "    filtered_df = df.copy()\n",
    "\n",
    "    if product_id != 'ALL':\n",
    "        filtered_df = filtered_df[filtered_df['product_id'] == product_id]\n",
    "    if sentiment != 'ALL':\n",
    "        filtered_df = filtered_df[filtered_df['sentiment'] == sentiment]\n",
    "    if filtered_df.empty:\n",
    "        return display(\"No reviews found for the selected filters.\")\n",
    "    \n",
    "    display(filtered_df[['product_id', 'review_text', 'sentiment', 'confidence']].reset_index(drop=True)) \n",
    "    \n",
    "    # pie chart visualization\n",
    "    sentiment_counts = filtered_df['sentiment'].value_counts()\n",
    "    colors = ['#66b3ff', '#ff9999']\n",
    "\n",
    "    plt.figure(figsize=(4.5, 4.5))\n",
    "    plt.pie(sentiment_counts, labels = sentiment_counts.index, autopct='%1.1f%%', startangle=140, colors=colors)\n",
    "    plt.title('Sentiment Distribution for Selected Filters')\n",
    "    plt.axis('equal')  # Equal aspect ratio ensures that pie chart is circular.\n",
    "    plt.show()\n",
    "\n",
    "\n",
    "# Run the filter function and display results\n",
    "widgets.interact(filter_reviews, product_id = product_dropdown, sentiment = sentiment_dropdown)\n",
    "\n",
    "                               \n"
   ]
  }
 ],
 "metadata": {
  "kernelspec": {
   "display_name": "env",
   "language": "python",
   "name": "python3"
  },
  "language_info": {
   "codemirror_mode": {
    "name": "ipython",
    "version": 3
   },
   "file_extension": ".py",
   "mimetype": "text/x-python",
   "name": "python",
   "nbconvert_exporter": "python",
   "pygments_lexer": "ipython3",
   "version": "3.12.9"
  }
 },
 "nbformat": 4,
 "nbformat_minor": 5
}
